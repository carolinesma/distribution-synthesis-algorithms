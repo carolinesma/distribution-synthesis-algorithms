{
 "cells": [
  {
   "cell_type": "code",
   "execution_count": 79,
   "id": "6405aba7",
   "metadata": {},
   "outputs": [],
   "source": [
    "import numpy as np"
   ]
  },
  {
   "cell_type": "code",
   "execution_count": 80,
   "id": "01a6b986",
   "metadata": {},
   "outputs": [],
   "source": [
    "def variational_distance_optimal_approximation(T, M):\n",
    "    \"\"\"\n",
    "    Algoritmo para a aproximação ótima de distância variacional (página 3, Seção II).\n",
    "\n",
    "    Encontra a distribuição M-tipo T_vd (p) que minimiza a distância variacional ||p - t||_1.\n",
    "\n",
    "    Args:\n",
    "        T (np.ndarray): Um array NumPy representando a distribuição de probabilidade discreta.\n",
    "                        A soma de T deve ser 1.\n",
    "        M (int): O inteiro M que define a precisão da distribuição M-tipo (os\n",
    "                 elementos de T_vd serão múltiplos de 1/M).\n",
    "\n",
    "    Returns:\n",
    "        np.ndarray: A distribuição M-tipo P que é a melhor aproximação de T_vd em\n",
    "                    termos de distância variacional.\n",
    "    \"\"\"\n",
    "    T = np.sort(T)[::-1]  # Ordena a probabilidade de entrada do maior para o menor\n",
    "    n = len(T)\n",
    "    T_vd = np.zeros(n)  # Inicializa a distribuição M-tipo T_vd\n",
    "    e_i = np.zeros(n)         \n",
    "\n",
    "    Mt_i = np.floor(M * T).astype(int)\n",
    "    for i in range(min(n, M)):\n",
    "        T_vd[i] = Mt_i[i] / M\n",
    "\n",
    "    e_i = T - T_vd\n",
    "    T_vd_sum = np.sum(T_vd)\n",
    "    L = int(M - (M * T_vd_sum))\n",
    "    \n",
    "    indices_maiores_residuos = np.argsort(-e_i)[:L]\n",
    "    \n",
    "    for idx in indices_maiores_residuos:\n",
    "        T_vd[idx] += 1 / M\n",
    "        e_i[idx] = T[idx] - T_vd[idx]\n",
    "\n",
    "    return T_vd"
   ]
  },
  {
   "cell_type": "code",
   "execution_count": 81,
   "id": "275db0a0",
   "metadata": {},
   "outputs": [
    {
     "name": "stdout",
     "output_type": "stream",
     "text": [
      "Distribuição de probabilidade original P: [0.5 0.5]\n",
      "Precisão M: 2\n",
      "Aproximação M-tipo ótima T: [0.5 0.5]\n",
      "Verificação: A soma de T é 1.0\n",
      "Distância variacional ||T - P||_1: 0.0\n"
     ]
    }
   ],
   "source": [
    "P_exemplo = np.array([1/2, 1/2])\n",
    "\n",
    "M_exemplo = 2\n",
    "\n",
    "P_resultante = variational_distance_optimal_approximation(P_exemplo, M_exemplo)\n",
    "\n",
    "print(f\"Distribuição de probabilidade original P: {P_exemplo}\")\n",
    "print(f\"Precisão M: {M_exemplo}\")\n",
    "print(f\"Aproximação M-tipo ótima T: {P_resultante}\")\n",
    "print(f\"Verificação: A soma de T é {np.sum(P_resultante)}\")\n",
    "print(f\"Distância variacional ||T - P||_1: {np.sum(np.abs(P_resultante - P_exemplo))}\")"
   ]
  },
  {
   "cell_type": "code",
   "execution_count": 82,
   "id": "fde3d183",
   "metadata": {},
   "outputs": [
    {
     "name": "stdout",
     "output_type": "stream",
     "text": [
      "Distribuição de probabilidade original P: [0.33333333 0.33333333 0.33333333]\n",
      "Precisão M: 2\n",
      "Aproximação M-tipo ótima T: [0.5 0.5 0. ]\n",
      "Verificação: A soma de T é 1.0\n",
      "Distância variacional ||T - P||_1: 0.6666666666666667\n"
     ]
    }
   ],
   "source": [
    "P_exemplo = np.array([1/3, 1/3, 1/3])\n",
    "\n",
    "M_exemplo = 2\n",
    "\n",
    "P_resultante = variational_distance_optimal_approximation(P_exemplo, M_exemplo)\n",
    "\n",
    "print(f\"Distribuição de probabilidade original P: {P_exemplo}\")\n",
    "print(f\"Precisão M: {M_exemplo}\")\n",
    "print(f\"Aproximação M-tipo ótima T: {P_resultante}\")\n",
    "print(f\"Verificação: A soma de T é {np.sum(P_resultante)}\")\n",
    "print(f\"Distância variacional ||T - P||_1: {np.sum(np.abs(P_resultante - P_exemplo))}\")"
   ]
  },
  {
   "cell_type": "code",
   "execution_count": 83,
   "id": "f61ba295",
   "metadata": {},
   "outputs": [
    {
     "name": "stdout",
     "output_type": "stream",
     "text": [
      "Distribuição de probabilidade original P: [0.75 0.25]\n",
      "Precisão M: 2\n",
      "Aproximação M-tipo ótima T: [1. 0.]\n",
      "Verificação: A soma de T é 1.0\n",
      "Distância variacional ||T - P||_1: 0.5\n"
     ]
    }
   ],
   "source": [
    "P_exemplo = np.array([3/4, 1/4])\n",
    "\n",
    "M_exemplo = 2\n",
    "\n",
    "P_resultante = variational_distance_optimal_approximation(P_exemplo, M_exemplo)\n",
    "\n",
    "print(f\"Distribuição de probabilidade original P: {P_exemplo}\")\n",
    "print(f\"Precisão M: {M_exemplo}\")\n",
    "print(f\"Aproximação M-tipo ótima T: {P_resultante}\")\n",
    "print(f\"Verificação: A soma de T é {np.sum(P_resultante)}\")\n",
    "print(f\"Distância variacional ||T - P||_1: {np.sum(np.abs(P_resultante - P_exemplo))}\")"
   ]
  }
 ],
 "metadata": {
  "kernelspec": {
   "display_name": "Python (pcs)",
   "language": "python",
   "name": "pcs-3.12.0"
  },
  "language_info": {
   "codemirror_mode": {
    "name": "ipython",
    "version": 3
   },
   "file_extension": ".py",
   "mimetype": "text/x-python",
   "name": "python",
   "nbconvert_exporter": "python",
   "pygments_lexer": "ipython3",
   "version": "3.12.0"
  }
 },
 "nbformat": 4,
 "nbformat_minor": 5
}
