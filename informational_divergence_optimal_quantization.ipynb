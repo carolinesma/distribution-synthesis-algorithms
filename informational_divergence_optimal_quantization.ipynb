{
 "cells": [
  {
   "cell_type": "code",
   "execution_count": 28,
   "id": "60d0baa2",
   "metadata": {},
   "outputs": [],
   "source": [
    "import numpy as np\n",
    "import math\n",
    "from scipy.stats import entropy\n",
    "from scipy.stats import yulesimon\n",
    "import matplotlib.pyplot as plt"
   ]
  },
  {
   "cell_type": "code",
   "execution_count": 25,
   "id": "15b632b7",
   "metadata": {},
   "outputs": [],
   "source": [
    "def informational_divergence_optimal_quantization(t, M):\n",
    "    \"\"\"\n",
    "    Algoritmo para a quantização ótima de divergência de informação (página 5).\n",
    "\n",
    "    Encontra a distribuição M-tipo T_id (p) que minimiza a divergência de informação\n",
    "    D(p || t).\n",
    "\n",
    "    Args:\n",
    "        t (np.ndarray): Um array NumPy representando a distribuição de\n",
    "                        probabilidade discreta alvo. A soma de t deve ser 1.\n",
    "        M (int): O inteiro M que define o número total de unidades de massa\n",
    "                 (a soma dos elementos de c deve ser M).\n",
    "\n",
    "    Returns:\n",
    "        np.ndarray: A distribuição M-tipo T_id que é a melhor aproximação de t\n",
    "                    em termos de divergência de informação.\n",
    "    \"\"\"\n",
    "    \n",
    "    t = np.sort(t)[::-1]  # Ordena a probabilidade de entrada do maior para o menor\n",
    "    n = len(t)\n",
    "    c = np.zeros(n, dtype=int)  # Inicializa o vetor de contagem c com zeros \n",
    "\n",
    "    def delta(k, t_val):\n",
    "        if k - 1 == 0:\n",
    "            return k * math.log(k) + math.log(1/t_val)\n",
    "        else:\n",
    "            return k * math.log(k) - (k - 1) * math.log(k - 1) + math.log(1/t_val)\n",
    "\n",
    "    for _ in range(M):\n",
    "        min_delta = float('inf')\n",
    "        min_delta_index = -1\n",
    "        \n",
    "        for i in range(n):\n",
    "            current_delta = delta(c[i] + 1, t[i])\n",
    "            if current_delta < min_delta:\n",
    "                min_delta = current_delta\n",
    "                min_delta_index = i\n",
    "        \n",
    "        c[min_delta_index] += 1\n",
    "    \n",
    "    t_id = c / M\n",
    "    return t_id, c"
   ]
  },
  {
   "cell_type": "code",
   "execution_count": 26,
   "id": "c4c3259e",
   "metadata": {},
   "outputs": [
    {
     "name": "stdout",
     "output_type": "stream",
     "text": [
      "Distribuição de probabilidade alvo t: [0.8 0.2]\n",
      "Precisão M: 2\n",
      "Vetor de contagem c final: [2 0]\n",
      "Aproximação M-tipo ótima Q: [1. 0.]\n",
      "Divergência informacional: 0.2231435513142097\n"
     ]
    }
   ],
   "source": [
    "t_exemplo = np.array([4/5, 1/5])\n",
    "M_exemplo = 2\n",
    "\n",
    "t_resultante, c_resultante = informational_divergence_optimal_quantization(t_exemplo, M_exemplo)\n",
    "\n",
    "print(f\"Distribuição de probabilidade alvo t: {t_exemplo}\")\n",
    "print(f\"Precisão M: {M_exemplo}\")\n",
    "print(f\"Vetor de contagem c final: {c_resultante}\")\n",
    "print(f\"Aproximação M-tipo ótima Q: {t_resultante}\")\n",
    "print(f\"Divergência informacional: {entropy(t_resultante, t_exemplo)}\")"
   ]
  }
 ],
 "metadata": {
  "kernelspec": {
   "display_name": "Python (pcs)",
   "language": "python",
   "name": "pcs-3.12.0"
  },
  "language_info": {
   "codemirror_mode": {
    "name": "ipython",
    "version": 3
   },
   "file_extension": ".py",
   "mimetype": "text/x-python",
   "name": "python",
   "nbconvert_exporter": "python",
   "pygments_lexer": "ipython3",
   "version": "3.12.0"
  }
 },
 "nbformat": 4,
 "nbformat_minor": 5
}
